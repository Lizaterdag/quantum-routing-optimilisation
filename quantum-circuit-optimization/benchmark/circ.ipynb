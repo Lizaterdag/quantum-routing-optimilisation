{
 "cells": [
  {
   "cell_type": "code",
   "execution_count": null,
   "outputs": [],
   "source": [],
   "metadata": {
    "collapsed": false,
    "pycharm": {
     "name": "#%%\n"
    }
   }
  },
  {
   "cell_type": "code",
   "execution_count": 1,
   "outputs": [],
   "source": [
    "import cirq_google"
   ],
   "metadata": {
    "collapsed": false,
    "pycharm": {
     "name": "#%%\n"
    }
   }
  },
  {
   "cell_type": "code",
   "execution_count": 1,
   "outputs": [],
   "source": [
    "from save_data import save_circuit"
   ],
   "metadata": {
    "collapsed": false,
    "pycharm": {
     "name": "#%%\n"
    }
   }
  },
  {
   "cell_type": "code",
   "execution_count": 2,
   "outputs": [
    {
     "name": "stdout",
     "output_type": "stream",
     "text": [
      "<tket::Circuit, qubits=4, gates=9>\n"
     ]
    }
   ],
   "source": [
    "from qiskit.providers.ibmq import IBMQBackend\n",
    "from pytket.passes import PlacementPass, RoutingPass\n",
    "from pytket.circuit import Circuit, Qubit, Node\n",
    "from pytket.placement import Placement\n",
    "circuit = Circuit(4)\n",
    "\n",
    "circuit.CX(0,1)\n",
    "circuit.CX(3,2)\n",
    "circuit.CX(3,0)\n",
    "circuit.CX(0,2)\n",
    "circuit.CX(1,2)\n",
    "circuit.CX(1,0)\n",
    "circuit.CX(2,3)\n",
    "circuit.CX(3,0)\n",
    "circuit.CX(0,2)\n",
    "print(circuit)"
   ],
   "metadata": {
    "collapsed": false,
    "pycharm": {
     "name": "#%%\n"
    }
   }
  },
  {
   "cell_type": "code",
   "execution_count": 3,
   "outputs": [
    {
     "name": "stdout",
     "output_type": "stream",
     "text": [
      "[CX node[1], node[0];, CX node[2], node[3];, CX node[2], node[1];, CX node[1], node[3];, CX node[0], node[3];, CX node[0], node[1];, CX node[3], node[2];, CX node[2], node[1];, CX node[1], node[3];]\n"
     ]
    }
   ],
   "source": [
    "q_map = {Qubit(0): Node(1), Qubit(1) : Node(0), Qubit(2): Node(3), Qubit(3): Node(2)}\n",
    "Placement.place_with_map(circuit,q_map)\n",
    "print(circuit.get_commands())"
   ],
   "metadata": {
    "collapsed": false,
    "pycharm": {
     "name": "#%%\n"
    }
   }
  },
  {
   "cell_type": "code",
   "execution_count": 1,
   "outputs": [
    {
     "ename": "ModuleNotFoundError",
     "evalue": "No module named 'pytket.routing'",
     "output_type": "error",
     "traceback": [
      "\u001B[0;31m---------------------------------------------------------------------------\u001B[0m",
      "\u001B[0;31mModuleNotFoundError\u001B[0m                       Traceback (most recent call last)",
      "Input \u001B[0;32mIn [1]\u001B[0m, in \u001B[0;36m<cell line: 2>\u001B[0;34m()\u001B[0m\n\u001B[1;32m      1\u001B[0m \u001B[38;5;28;01mimport\u001B[39;00m \u001B[38;5;21;01mcirq_google\u001B[39;00m \u001B[38;5;28;01mas\u001B[39;00m \u001B[38;5;21;01mcg\u001B[39;00m\n\u001B[0;32m----> 2\u001B[0m \u001B[38;5;28;01mfrom\u001B[39;00m \u001B[38;5;21;01mrecirq\u001B[39;00m\u001B[38;5;21;01m.\u001B[39;00m\u001B[38;5;21;01mqaoa\u001B[39;00m\u001B[38;5;21;01m.\u001B[39;00m\u001B[38;5;21;01mplacement\u001B[39;00m \u001B[38;5;28;01mimport\u001B[39;00m _device_to_tket_device\n\u001B[1;32m      3\u001B[0m \u001B[38;5;66;03m#from recirq.qaoa.placement import _device_to_tket_device\u001B[39;00m\n\u001B[1;32m      6\u001B[0m device \u001B[38;5;241m=\u001B[39m cg\u001B[38;5;241m.\u001B[39mSycamore23\n",
      "File \u001B[0;32m~/.local/lib/python3.9/site-packages/recirq/qaoa/placement.py:26\u001B[0m, in \u001B[0;36m<module>\u001B[0;34m\u001B[0m\n\u001B[1;32m     24\u001B[0m         pytket \u001B[38;5;241m=\u001B[39m \u001B[38;5;28mNotImplemented\u001B[39m\n\u001B[1;32m     25\u001B[0m     \u001B[38;5;28;01melse\u001B[39;00m:\n\u001B[0;32m---> 26\u001B[0m         \u001B[38;5;28;01mraise\u001B[39;00m e\n\u001B[1;32m     28\u001B[0m \u001B[38;5;28;01mimport\u001B[39;00m \u001B[38;5;21;01mrecirq\u001B[39;00m\n\u001B[1;32m     31\u001B[0m \u001B[38;5;28;01mdef\u001B[39;00m \u001B[38;5;21mcalibration_data_to_graph\u001B[39m(calib_dict: cg\u001B[38;5;241m.\u001B[39mCalibration) \u001B[38;5;241m-\u001B[39m\u001B[38;5;241m>\u001B[39m nx\u001B[38;5;241m.\u001B[39mGraph:\n",
      "File \u001B[0;32m~/.local/lib/python3.9/site-packages/recirq/qaoa/placement.py:21\u001B[0m, in \u001B[0;36m<module>\u001B[0;34m\u001B[0m\n\u001B[1;32m     19\u001B[0m     \u001B[38;5;28;01mfrom\u001B[39;00m \u001B[38;5;21;01mpytket\u001B[39;00m\u001B[38;5;21;01m.\u001B[39;00m\u001B[38;5;21;01mpasses\u001B[39;00m \u001B[38;5;28;01mimport\u001B[39;00m SequencePass, RoutingPass, PlacementPass\n\u001B[1;32m     20\u001B[0m     \u001B[38;5;28;01mfrom\u001B[39;00m \u001B[38;5;21;01mpytket\u001B[39;00m\u001B[38;5;21;01m.\u001B[39;00m\u001B[38;5;21;01mpredicates\u001B[39;00m \u001B[38;5;28;01mimport\u001B[39;00m CompilationUnit, ConnectivityPredicate\n\u001B[0;32m---> 21\u001B[0m     \u001B[38;5;28;01mfrom\u001B[39;00m \u001B[38;5;21;01mpytket\u001B[39;00m\u001B[38;5;21;01m.\u001B[39;00m\u001B[38;5;21;01mrouting\u001B[39;00m \u001B[38;5;28;01mimport\u001B[39;00m GraphPlacement\n\u001B[1;32m     22\u001B[0m \u001B[38;5;28;01mexcept\u001B[39;00m \u001B[38;5;167;01mImportError\u001B[39;00m \u001B[38;5;28;01mas\u001B[39;00m e:\n\u001B[1;32m     23\u001B[0m     \u001B[38;5;28;01mif\u001B[39;00m \u001B[38;5;124m'\u001B[39m\u001B[38;5;124mRECIRQ_IMPORT_FAILSAFE\u001B[39m\u001B[38;5;124m'\u001B[39m \u001B[38;5;129;01min\u001B[39;00m os\u001B[38;5;241m.\u001B[39menviron:\n",
      "\u001B[0;31mModuleNotFoundError\u001B[0m: No module named 'pytket.routing'"
     ]
    }
   ],
   "source": [
    "import cirq_google as cg\n",
    "from recirq.qaoa.placement import _device_to_tket_device\n",
    "\n",
    "\n",
    "\n",
    "device = cg.Sycamore23\n",
    "tk_device = _device_to_tket_device(device)\n",
    "for _ in range(50):\n",
    "    RoutingPass(device).apply(circuit)"
   ],
   "metadata": {
    "collapsed": false,
    "pycharm": {
     "name": "#%%\n"
    }
   }
  },
  {
   "cell_type": "code",
   "execution_count": null,
   "outputs": [],
   "source": [],
   "metadata": {
    "collapsed": false,
    "pycharm": {
     "name": "#%%\n"
    }
   }
  }
 ],
 "metadata": {
  "kernelspec": {
   "display_name": "Python 3",
   "language": "python",
   "name": "python3"
  },
  "language_info": {
   "codemirror_mode": {
    "name": "ipython",
    "version": 2
   },
   "file_extension": ".py",
   "mimetype": "text/x-python",
   "name": "python",
   "nbconvert_exporter": "python",
   "pygments_lexer": "ipython2",
   "version": "2.7.6"
  }
 },
 "nbformat": 4,
 "nbformat_minor": 0
}